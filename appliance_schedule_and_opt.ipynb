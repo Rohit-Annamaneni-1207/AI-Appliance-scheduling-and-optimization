{
  "nbformat": 4,
  "nbformat_minor": 0,
  "metadata": {
    "colab": {
      "provenance": [],
      "gpuType": "T4"
    },
    "kernelspec": {
      "name": "python3",
      "display_name": "Python 3"
    },
    "language_info": {
      "name": "python"
    },
    "accelerator": "GPU"
  },
  "cells": [
    {
      "cell_type": "code",
      "source": [
        "'''\n",
        "Dynamic pricing - curtailment_rate (19x16)\n",
        "PAR ----\n",
        "priorities ----\n",
        "'''"
      ],
      "metadata": {
        "colab": {
          "base_uri": "https://localhost:8080/",
          "height": 36
        },
        "id": "6U2d0RJ3nhMO",
        "outputId": "80bcc85b-9d22-497e-e9c9-489400fc7ea7"
      },
      "execution_count": null,
      "outputs": [
        {
          "output_type": "execute_result",
          "data": {
            "text/plain": [
              "'\\nDynamic pricing - curtailment_rate (19x16)\\nPAR ----\\npriorities ----\\n'"
            ],
            "application/vnd.google.colaboratory.intrinsic+json": {
              "type": "string"
            }
          },
          "metadata": {},
          "execution_count": 8
        }
      ]
    },
    {
      "cell_type": "code",
      "execution_count": null,
      "metadata": {
        "id": "IEu2QwGoupz0"
      },
      "outputs": [],
      "source": [
        "#imports\n",
        "import random\n",
        "import numpy as np\n",
        "import matplotlib.pyplot as plt\n",
        "import pandas as pd"
      ]
    },
    {
      "cell_type": "code",
      "source": [
        "from google.colab import drive\n",
        "drive.mount(\"/content/drive\")"
      ],
      "metadata": {
        "colab": {
          "base_uri": "https://localhost:8080/"
        },
        "id": "QnnuBpJ6usBY",
        "outputId": "6b33815d-a33f-4e72-9ba1-79b8eaa65642"
      },
      "execution_count": null,
      "outputs": [
        {
          "output_type": "stream",
          "name": "stdout",
          "text": [
            "Mounted at /content/drive\n"
          ]
        }
      ]
    },
    {
      "cell_type": "code",
      "source": [
        "load_df = pd.read_csv(\"/content/drive/MyDrive/dataset/load_characteristics.csv\")\n",
        "curtailment_df = pd.read_csv(\"/content/drive/MyDrive/dataset/required_curtailment.csv\")"
      ],
      "metadata": {
        "id": "9IwQnRmsutzk"
      },
      "execution_count": null,
      "outputs": []
    },
    {
      "cell_type": "code",
      "source": [
        "load_df"
      ],
      "metadata": {
        "colab": {
          "base_uri": "https://localhost:8080/",
          "height": 645
        },
        "id": "qJKA6F1auzN5",
        "outputId": "06e8c58b-2f10-423c-f7c2-989d9f1998b2"
      },
      "execution_count": null,
      "outputs": [
        {
          "output_type": "execute_result",
          "data": {
            "text/plain": [
              "    IL No  Capacity  Rate  Max_off  Min_on\n",
              "0       1       320  23.8        4       2\n",
              "1       2       200  25.7        4       2\n",
              "2       3        80  16.9        4       2\n",
              "3       4        84  16.9        4       2\n",
              "4       5       100  19.2        4       2\n",
              "5       6       160  23.6        4       2\n",
              "6       7       100  19.2        3       1\n",
              "7       8        60  16.9        3       1\n",
              "8       9       200  25.7        3       1\n",
              "9      10        40  16.9        4       1\n",
              "10     11        40  16.9        3       1\n",
              "11     12        72  16.9        3       3\n",
              "12     13       140  21.4        4       3\n",
              "13     14        80  16.9        3       3\n",
              "14     15        40  25.7        3       3\n",
              "15     16       180  25.7        3       3\n",
              "16     17       180  25.7        4       2\n",
              "17     18       160  23.6        4       2\n",
              "18     19        60  16.9        4       2"
            ],
            "text/html": [
              "\n",
              "  <div id=\"df-cc968b3a-bea8-498d-98ac-5291301a59a8\" class=\"colab-df-container\">\n",
              "    <div>\n",
              "<style scoped>\n",
              "    .dataframe tbody tr th:only-of-type {\n",
              "        vertical-align: middle;\n",
              "    }\n",
              "\n",
              "    .dataframe tbody tr th {\n",
              "        vertical-align: top;\n",
              "    }\n",
              "\n",
              "    .dataframe thead th {\n",
              "        text-align: right;\n",
              "    }\n",
              "</style>\n",
              "<table border=\"1\" class=\"dataframe\">\n",
              "  <thead>\n",
              "    <tr style=\"text-align: right;\">\n",
              "      <th></th>\n",
              "      <th>IL No</th>\n",
              "      <th>Capacity</th>\n",
              "      <th>Rate</th>\n",
              "      <th>Max_off</th>\n",
              "      <th>Min_on</th>\n",
              "    </tr>\n",
              "  </thead>\n",
              "  <tbody>\n",
              "    <tr>\n",
              "      <th>0</th>\n",
              "      <td>1</td>\n",
              "      <td>320</td>\n",
              "      <td>23.8</td>\n",
              "      <td>4</td>\n",
              "      <td>2</td>\n",
              "    </tr>\n",
              "    <tr>\n",
              "      <th>1</th>\n",
              "      <td>2</td>\n",
              "      <td>200</td>\n",
              "      <td>25.7</td>\n",
              "      <td>4</td>\n",
              "      <td>2</td>\n",
              "    </tr>\n",
              "    <tr>\n",
              "      <th>2</th>\n",
              "      <td>3</td>\n",
              "      <td>80</td>\n",
              "      <td>16.9</td>\n",
              "      <td>4</td>\n",
              "      <td>2</td>\n",
              "    </tr>\n",
              "    <tr>\n",
              "      <th>3</th>\n",
              "      <td>4</td>\n",
              "      <td>84</td>\n",
              "      <td>16.9</td>\n",
              "      <td>4</td>\n",
              "      <td>2</td>\n",
              "    </tr>\n",
              "    <tr>\n",
              "      <th>4</th>\n",
              "      <td>5</td>\n",
              "      <td>100</td>\n",
              "      <td>19.2</td>\n",
              "      <td>4</td>\n",
              "      <td>2</td>\n",
              "    </tr>\n",
              "    <tr>\n",
              "      <th>5</th>\n",
              "      <td>6</td>\n",
              "      <td>160</td>\n",
              "      <td>23.6</td>\n",
              "      <td>4</td>\n",
              "      <td>2</td>\n",
              "    </tr>\n",
              "    <tr>\n",
              "      <th>6</th>\n",
              "      <td>7</td>\n",
              "      <td>100</td>\n",
              "      <td>19.2</td>\n",
              "      <td>3</td>\n",
              "      <td>1</td>\n",
              "    </tr>\n",
              "    <tr>\n",
              "      <th>7</th>\n",
              "      <td>8</td>\n",
              "      <td>60</td>\n",
              "      <td>16.9</td>\n",
              "      <td>3</td>\n",
              "      <td>1</td>\n",
              "    </tr>\n",
              "    <tr>\n",
              "      <th>8</th>\n",
              "      <td>9</td>\n",
              "      <td>200</td>\n",
              "      <td>25.7</td>\n",
              "      <td>3</td>\n",
              "      <td>1</td>\n",
              "    </tr>\n",
              "    <tr>\n",
              "      <th>9</th>\n",
              "      <td>10</td>\n",
              "      <td>40</td>\n",
              "      <td>16.9</td>\n",
              "      <td>4</td>\n",
              "      <td>1</td>\n",
              "    </tr>\n",
              "    <tr>\n",
              "      <th>10</th>\n",
              "      <td>11</td>\n",
              "      <td>40</td>\n",
              "      <td>16.9</td>\n",
              "      <td>3</td>\n",
              "      <td>1</td>\n",
              "    </tr>\n",
              "    <tr>\n",
              "      <th>11</th>\n",
              "      <td>12</td>\n",
              "      <td>72</td>\n",
              "      <td>16.9</td>\n",
              "      <td>3</td>\n",
              "      <td>3</td>\n",
              "    </tr>\n",
              "    <tr>\n",
              "      <th>12</th>\n",
              "      <td>13</td>\n",
              "      <td>140</td>\n",
              "      <td>21.4</td>\n",
              "      <td>4</td>\n",
              "      <td>3</td>\n",
              "    </tr>\n",
              "    <tr>\n",
              "      <th>13</th>\n",
              "      <td>14</td>\n",
              "      <td>80</td>\n",
              "      <td>16.9</td>\n",
              "      <td>3</td>\n",
              "      <td>3</td>\n",
              "    </tr>\n",
              "    <tr>\n",
              "      <th>14</th>\n",
              "      <td>15</td>\n",
              "      <td>40</td>\n",
              "      <td>25.7</td>\n",
              "      <td>3</td>\n",
              "      <td>3</td>\n",
              "    </tr>\n",
              "    <tr>\n",
              "      <th>15</th>\n",
              "      <td>16</td>\n",
              "      <td>180</td>\n",
              "      <td>25.7</td>\n",
              "      <td>3</td>\n",
              "      <td>3</td>\n",
              "    </tr>\n",
              "    <tr>\n",
              "      <th>16</th>\n",
              "      <td>17</td>\n",
              "      <td>180</td>\n",
              "      <td>25.7</td>\n",
              "      <td>4</td>\n",
              "      <td>2</td>\n",
              "    </tr>\n",
              "    <tr>\n",
              "      <th>17</th>\n",
              "      <td>18</td>\n",
              "      <td>160</td>\n",
              "      <td>23.6</td>\n",
              "      <td>4</td>\n",
              "      <td>2</td>\n",
              "    </tr>\n",
              "    <tr>\n",
              "      <th>18</th>\n",
              "      <td>19</td>\n",
              "      <td>60</td>\n",
              "      <td>16.9</td>\n",
              "      <td>4</td>\n",
              "      <td>2</td>\n",
              "    </tr>\n",
              "  </tbody>\n",
              "</table>\n",
              "</div>\n",
              "    <div class=\"colab-df-buttons\">\n",
              "\n",
              "  <div class=\"colab-df-container\">\n",
              "    <button class=\"colab-df-convert\" onclick=\"convertToInteractive('df-cc968b3a-bea8-498d-98ac-5291301a59a8')\"\n",
              "            title=\"Convert this dataframe to an interactive table.\"\n",
              "            style=\"display:none;\">\n",
              "\n",
              "  <svg xmlns=\"http://www.w3.org/2000/svg\" height=\"24px\" viewBox=\"0 -960 960 960\">\n",
              "    <path d=\"M120-120v-720h720v720H120Zm60-500h600v-160H180v160Zm220 220h160v-160H400v160Zm0 220h160v-160H400v160ZM180-400h160v-160H180v160Zm440 0h160v-160H620v160ZM180-180h160v-160H180v160Zm440 0h160v-160H620v160Z\"/>\n",
              "  </svg>\n",
              "    </button>\n",
              "\n",
              "  <style>\n",
              "    .colab-df-container {\n",
              "      display:flex;\n",
              "      gap: 12px;\n",
              "    }\n",
              "\n",
              "    .colab-df-convert {\n",
              "      background-color: #E8F0FE;\n",
              "      border: none;\n",
              "      border-radius: 50%;\n",
              "      cursor: pointer;\n",
              "      display: none;\n",
              "      fill: #1967D2;\n",
              "      height: 32px;\n",
              "      padding: 0 0 0 0;\n",
              "      width: 32px;\n",
              "    }\n",
              "\n",
              "    .colab-df-convert:hover {\n",
              "      background-color: #E2EBFA;\n",
              "      box-shadow: 0px 1px 2px rgba(60, 64, 67, 0.3), 0px 1px 3px 1px rgba(60, 64, 67, 0.15);\n",
              "      fill: #174EA6;\n",
              "    }\n",
              "\n",
              "    .colab-df-buttons div {\n",
              "      margin-bottom: 4px;\n",
              "    }\n",
              "\n",
              "    [theme=dark] .colab-df-convert {\n",
              "      background-color: #3B4455;\n",
              "      fill: #D2E3FC;\n",
              "    }\n",
              "\n",
              "    [theme=dark] .colab-df-convert:hover {\n",
              "      background-color: #434B5C;\n",
              "      box-shadow: 0px 1px 3px 1px rgba(0, 0, 0, 0.15);\n",
              "      filter: drop-shadow(0px 1px 2px rgba(0, 0, 0, 0.3));\n",
              "      fill: #FFFFFF;\n",
              "    }\n",
              "  </style>\n",
              "\n",
              "    <script>\n",
              "      const buttonEl =\n",
              "        document.querySelector('#df-cc968b3a-bea8-498d-98ac-5291301a59a8 button.colab-df-convert');\n",
              "      buttonEl.style.display =\n",
              "        google.colab.kernel.accessAllowed ? 'block' : 'none';\n",
              "\n",
              "      async function convertToInteractive(key) {\n",
              "        const element = document.querySelector('#df-cc968b3a-bea8-498d-98ac-5291301a59a8');\n",
              "        const dataTable =\n",
              "          await google.colab.kernel.invokeFunction('convertToInteractive',\n",
              "                                                    [key], {});\n",
              "        if (!dataTable) return;\n",
              "\n",
              "        const docLinkHtml = 'Like what you see? Visit the ' +\n",
              "          '<a target=\"_blank\" href=https://colab.research.google.com/notebooks/data_table.ipynb>data table notebook</a>'\n",
              "          + ' to learn more about interactive tables.';\n",
              "        element.innerHTML = '';\n",
              "        dataTable['output_type'] = 'display_data';\n",
              "        await google.colab.output.renderOutput(dataTable, element);\n",
              "        const docLink = document.createElement('div');\n",
              "        docLink.innerHTML = docLinkHtml;\n",
              "        element.appendChild(docLink);\n",
              "      }\n",
              "    </script>\n",
              "  </div>\n",
              "\n",
              "\n",
              "<div id=\"df-16a87a13-e457-48b8-b3b6-9e51c8b8ad30\">\n",
              "  <button class=\"colab-df-quickchart\" onclick=\"quickchart('df-16a87a13-e457-48b8-b3b6-9e51c8b8ad30')\"\n",
              "            title=\"Suggest charts.\"\n",
              "            style=\"display:none;\">\n",
              "\n",
              "<svg xmlns=\"http://www.w3.org/2000/svg\" height=\"24px\"viewBox=\"0 0 24 24\"\n",
              "     width=\"24px\">\n",
              "    <g>\n",
              "        <path d=\"M19 3H5c-1.1 0-2 .9-2 2v14c0 1.1.9 2 2 2h14c1.1 0 2-.9 2-2V5c0-1.1-.9-2-2-2zM9 17H7v-7h2v7zm4 0h-2V7h2v10zm4 0h-2v-4h2v4z\"/>\n",
              "    </g>\n",
              "</svg>\n",
              "  </button>\n",
              "\n",
              "<style>\n",
              "  .colab-df-quickchart {\n",
              "      --bg-color: #E8F0FE;\n",
              "      --fill-color: #1967D2;\n",
              "      --hover-bg-color: #E2EBFA;\n",
              "      --hover-fill-color: #174EA6;\n",
              "      --disabled-fill-color: #AAA;\n",
              "      --disabled-bg-color: #DDD;\n",
              "  }\n",
              "\n",
              "  [theme=dark] .colab-df-quickchart {\n",
              "      --bg-color: #3B4455;\n",
              "      --fill-color: #D2E3FC;\n",
              "      --hover-bg-color: #434B5C;\n",
              "      --hover-fill-color: #FFFFFF;\n",
              "      --disabled-bg-color: #3B4455;\n",
              "      --disabled-fill-color: #666;\n",
              "  }\n",
              "\n",
              "  .colab-df-quickchart {\n",
              "    background-color: var(--bg-color);\n",
              "    border: none;\n",
              "    border-radius: 50%;\n",
              "    cursor: pointer;\n",
              "    display: none;\n",
              "    fill: var(--fill-color);\n",
              "    height: 32px;\n",
              "    padding: 0;\n",
              "    width: 32px;\n",
              "  }\n",
              "\n",
              "  .colab-df-quickchart:hover {\n",
              "    background-color: var(--hover-bg-color);\n",
              "    box-shadow: 0 1px 2px rgba(60, 64, 67, 0.3), 0 1px 3px 1px rgba(60, 64, 67, 0.15);\n",
              "    fill: var(--button-hover-fill-color);\n",
              "  }\n",
              "\n",
              "  .colab-df-quickchart-complete:disabled,\n",
              "  .colab-df-quickchart-complete:disabled:hover {\n",
              "    background-color: var(--disabled-bg-color);\n",
              "    fill: var(--disabled-fill-color);\n",
              "    box-shadow: none;\n",
              "  }\n",
              "\n",
              "  .colab-df-spinner {\n",
              "    border: 2px solid var(--fill-color);\n",
              "    border-color: transparent;\n",
              "    border-bottom-color: var(--fill-color);\n",
              "    animation:\n",
              "      spin 1s steps(1) infinite;\n",
              "  }\n",
              "\n",
              "  @keyframes spin {\n",
              "    0% {\n",
              "      border-color: transparent;\n",
              "      border-bottom-color: var(--fill-color);\n",
              "      border-left-color: var(--fill-color);\n",
              "    }\n",
              "    20% {\n",
              "      border-color: transparent;\n",
              "      border-left-color: var(--fill-color);\n",
              "      border-top-color: var(--fill-color);\n",
              "    }\n",
              "    30% {\n",
              "      border-color: transparent;\n",
              "      border-left-color: var(--fill-color);\n",
              "      border-top-color: var(--fill-color);\n",
              "      border-right-color: var(--fill-color);\n",
              "    }\n",
              "    40% {\n",
              "      border-color: transparent;\n",
              "      border-right-color: var(--fill-color);\n",
              "      border-top-color: var(--fill-color);\n",
              "    }\n",
              "    60% {\n",
              "      border-color: transparent;\n",
              "      border-right-color: var(--fill-color);\n",
              "    }\n",
              "    80% {\n",
              "      border-color: transparent;\n",
              "      border-right-color: var(--fill-color);\n",
              "      border-bottom-color: var(--fill-color);\n",
              "    }\n",
              "    90% {\n",
              "      border-color: transparent;\n",
              "      border-bottom-color: var(--fill-color);\n",
              "    }\n",
              "  }\n",
              "</style>\n",
              "\n",
              "  <script>\n",
              "    async function quickchart(key) {\n",
              "      const quickchartButtonEl =\n",
              "        document.querySelector('#' + key + ' button');\n",
              "      quickchartButtonEl.disabled = true;  // To prevent multiple clicks.\n",
              "      quickchartButtonEl.classList.add('colab-df-spinner');\n",
              "      try {\n",
              "        const charts = await google.colab.kernel.invokeFunction(\n",
              "            'suggestCharts', [key], {});\n",
              "      } catch (error) {\n",
              "        console.error('Error during call to suggestCharts:', error);\n",
              "      }\n",
              "      quickchartButtonEl.classList.remove('colab-df-spinner');\n",
              "      quickchartButtonEl.classList.add('colab-df-quickchart-complete');\n",
              "    }\n",
              "    (() => {\n",
              "      let quickchartButtonEl =\n",
              "        document.querySelector('#df-16a87a13-e457-48b8-b3b6-9e51c8b8ad30 button');\n",
              "      quickchartButtonEl.style.display =\n",
              "        google.colab.kernel.accessAllowed ? 'block' : 'none';\n",
              "    })();\n",
              "  </script>\n",
              "</div>\n",
              "    </div>\n",
              "  </div>\n"
            ]
          },
          "metadata": {},
          "execution_count": 12
        }
      ]
    },
    {
      "cell_type": "code",
      "source": [
        "capacities = list(load_df[\"Capacity\"])\n",
        "curtailment_rate = list(load_df[\"Rate\"])"
      ],
      "metadata": {
        "id": "oAUIO82Fu1DO"
      },
      "execution_count": null,
      "outputs": []
    },
    {
      "cell_type": "code",
      "source": [
        "curtailment_df"
      ],
      "metadata": {
        "colab": {
          "base_uri": "https://localhost:8080/",
          "height": 551
        },
        "id": "IpKrtx_Yu2_s",
        "outputId": "e036479f-f0c7-40d1-b09c-e31f481a675f"
      },
      "execution_count": null,
      "outputs": [
        {
          "output_type": "execute_result",
          "data": {
            "text/plain": [
              "    Hour  curtailment_A  curtailment_B\n",
              "0      1              0          113.8\n",
              "1      2              0          227.5\n",
              "2      3              0          455.0\n",
              "3      4              0          682.5\n",
              "4      5            444          773.5\n",
              "5      6            430          796.3\n",
              "6      7            436          750.8\n",
              "7      8              0          637.0\n",
              "8      9            336          591.5\n",
              "9     10            797          609.7\n",
              "10    11            455          659.8\n",
              "11    12             71          682.5\n",
              "12    13              0          568.8\n",
              "13    14              0          409.5\n",
              "14    15              0          227.5\n",
              "15    16              0          136.5"
            ],
            "text/html": [
              "\n",
              "  <div id=\"df-6efd4195-a136-4523-8a80-bdf9c6d7c76a\" class=\"colab-df-container\">\n",
              "    <div>\n",
              "<style scoped>\n",
              "    .dataframe tbody tr th:only-of-type {\n",
              "        vertical-align: middle;\n",
              "    }\n",
              "\n",
              "    .dataframe tbody tr th {\n",
              "        vertical-align: top;\n",
              "    }\n",
              "\n",
              "    .dataframe thead th {\n",
              "        text-align: right;\n",
              "    }\n",
              "</style>\n",
              "<table border=\"1\" class=\"dataframe\">\n",
              "  <thead>\n",
              "    <tr style=\"text-align: right;\">\n",
              "      <th></th>\n",
              "      <th>Hour</th>\n",
              "      <th>curtailment_A</th>\n",
              "      <th>curtailment_B</th>\n",
              "    </tr>\n",
              "  </thead>\n",
              "  <tbody>\n",
              "    <tr>\n",
              "      <th>0</th>\n",
              "      <td>1</td>\n",
              "      <td>0</td>\n",
              "      <td>113.8</td>\n",
              "    </tr>\n",
              "    <tr>\n",
              "      <th>1</th>\n",
              "      <td>2</td>\n",
              "      <td>0</td>\n",
              "      <td>227.5</td>\n",
              "    </tr>\n",
              "    <tr>\n",
              "      <th>2</th>\n",
              "      <td>3</td>\n",
              "      <td>0</td>\n",
              "      <td>455.0</td>\n",
              "    </tr>\n",
              "    <tr>\n",
              "      <th>3</th>\n",
              "      <td>4</td>\n",
              "      <td>0</td>\n",
              "      <td>682.5</td>\n",
              "    </tr>\n",
              "    <tr>\n",
              "      <th>4</th>\n",
              "      <td>5</td>\n",
              "      <td>444</td>\n",
              "      <td>773.5</td>\n",
              "    </tr>\n",
              "    <tr>\n",
              "      <th>5</th>\n",
              "      <td>6</td>\n",
              "      <td>430</td>\n",
              "      <td>796.3</td>\n",
              "    </tr>\n",
              "    <tr>\n",
              "      <th>6</th>\n",
              "      <td>7</td>\n",
              "      <td>436</td>\n",
              "      <td>750.8</td>\n",
              "    </tr>\n",
              "    <tr>\n",
              "      <th>7</th>\n",
              "      <td>8</td>\n",
              "      <td>0</td>\n",
              "      <td>637.0</td>\n",
              "    </tr>\n",
              "    <tr>\n",
              "      <th>8</th>\n",
              "      <td>9</td>\n",
              "      <td>336</td>\n",
              "      <td>591.5</td>\n",
              "    </tr>\n",
              "    <tr>\n",
              "      <th>9</th>\n",
              "      <td>10</td>\n",
              "      <td>797</td>\n",
              "      <td>609.7</td>\n",
              "    </tr>\n",
              "    <tr>\n",
              "      <th>10</th>\n",
              "      <td>11</td>\n",
              "      <td>455</td>\n",
              "      <td>659.8</td>\n",
              "    </tr>\n",
              "    <tr>\n",
              "      <th>11</th>\n",
              "      <td>12</td>\n",
              "      <td>71</td>\n",
              "      <td>682.5</td>\n",
              "    </tr>\n",
              "    <tr>\n",
              "      <th>12</th>\n",
              "      <td>13</td>\n",
              "      <td>0</td>\n",
              "      <td>568.8</td>\n",
              "    </tr>\n",
              "    <tr>\n",
              "      <th>13</th>\n",
              "      <td>14</td>\n",
              "      <td>0</td>\n",
              "      <td>409.5</td>\n",
              "    </tr>\n",
              "    <tr>\n",
              "      <th>14</th>\n",
              "      <td>15</td>\n",
              "      <td>0</td>\n",
              "      <td>227.5</td>\n",
              "    </tr>\n",
              "    <tr>\n",
              "      <th>15</th>\n",
              "      <td>16</td>\n",
              "      <td>0</td>\n",
              "      <td>136.5</td>\n",
              "    </tr>\n",
              "  </tbody>\n",
              "</table>\n",
              "</div>\n",
              "    <div class=\"colab-df-buttons\">\n",
              "\n",
              "  <div class=\"colab-df-container\">\n",
              "    <button class=\"colab-df-convert\" onclick=\"convertToInteractive('df-6efd4195-a136-4523-8a80-bdf9c6d7c76a')\"\n",
              "            title=\"Convert this dataframe to an interactive table.\"\n",
              "            style=\"display:none;\">\n",
              "\n",
              "  <svg xmlns=\"http://www.w3.org/2000/svg\" height=\"24px\" viewBox=\"0 -960 960 960\">\n",
              "    <path d=\"M120-120v-720h720v720H120Zm60-500h600v-160H180v160Zm220 220h160v-160H400v160Zm0 220h160v-160H400v160ZM180-400h160v-160H180v160Zm440 0h160v-160H620v160ZM180-180h160v-160H180v160Zm440 0h160v-160H620v160Z\"/>\n",
              "  </svg>\n",
              "    </button>\n",
              "\n",
              "  <style>\n",
              "    .colab-df-container {\n",
              "      display:flex;\n",
              "      gap: 12px;\n",
              "    }\n",
              "\n",
              "    .colab-df-convert {\n",
              "      background-color: #E8F0FE;\n",
              "      border: none;\n",
              "      border-radius: 50%;\n",
              "      cursor: pointer;\n",
              "      display: none;\n",
              "      fill: #1967D2;\n",
              "      height: 32px;\n",
              "      padding: 0 0 0 0;\n",
              "      width: 32px;\n",
              "    }\n",
              "\n",
              "    .colab-df-convert:hover {\n",
              "      background-color: #E2EBFA;\n",
              "      box-shadow: 0px 1px 2px rgba(60, 64, 67, 0.3), 0px 1px 3px 1px rgba(60, 64, 67, 0.15);\n",
              "      fill: #174EA6;\n",
              "    }\n",
              "\n",
              "    .colab-df-buttons div {\n",
              "      margin-bottom: 4px;\n",
              "    }\n",
              "\n",
              "    [theme=dark] .colab-df-convert {\n",
              "      background-color: #3B4455;\n",
              "      fill: #D2E3FC;\n",
              "    }\n",
              "\n",
              "    [theme=dark] .colab-df-convert:hover {\n",
              "      background-color: #434B5C;\n",
              "      box-shadow: 0px 1px 3px 1px rgba(0, 0, 0, 0.15);\n",
              "      filter: drop-shadow(0px 1px 2px rgba(0, 0, 0, 0.3));\n",
              "      fill: #FFFFFF;\n",
              "    }\n",
              "  </style>\n",
              "\n",
              "    <script>\n",
              "      const buttonEl =\n",
              "        document.querySelector('#df-6efd4195-a136-4523-8a80-bdf9c6d7c76a button.colab-df-convert');\n",
              "      buttonEl.style.display =\n",
              "        google.colab.kernel.accessAllowed ? 'block' : 'none';\n",
              "\n",
              "      async function convertToInteractive(key) {\n",
              "        const element = document.querySelector('#df-6efd4195-a136-4523-8a80-bdf9c6d7c76a');\n",
              "        const dataTable =\n",
              "          await google.colab.kernel.invokeFunction('convertToInteractive',\n",
              "                                                    [key], {});\n",
              "        if (!dataTable) return;\n",
              "\n",
              "        const docLinkHtml = 'Like what you see? Visit the ' +\n",
              "          '<a target=\"_blank\" href=https://colab.research.google.com/notebooks/data_table.ipynb>data table notebook</a>'\n",
              "          + ' to learn more about interactive tables.';\n",
              "        element.innerHTML = '';\n",
              "        dataTable['output_type'] = 'display_data';\n",
              "        await google.colab.output.renderOutput(dataTable, element);\n",
              "        const docLink = document.createElement('div');\n",
              "        docLink.innerHTML = docLinkHtml;\n",
              "        element.appendChild(docLink);\n",
              "      }\n",
              "    </script>\n",
              "  </div>\n",
              "\n",
              "\n",
              "<div id=\"df-ca9de473-5c62-4084-916c-6544c5ec731a\">\n",
              "  <button class=\"colab-df-quickchart\" onclick=\"quickchart('df-ca9de473-5c62-4084-916c-6544c5ec731a')\"\n",
              "            title=\"Suggest charts.\"\n",
              "            style=\"display:none;\">\n",
              "\n",
              "<svg xmlns=\"http://www.w3.org/2000/svg\" height=\"24px\"viewBox=\"0 0 24 24\"\n",
              "     width=\"24px\">\n",
              "    <g>\n",
              "        <path d=\"M19 3H5c-1.1 0-2 .9-2 2v14c0 1.1.9 2 2 2h14c1.1 0 2-.9 2-2V5c0-1.1-.9-2-2-2zM9 17H7v-7h2v7zm4 0h-2V7h2v10zm4 0h-2v-4h2v4z\"/>\n",
              "    </g>\n",
              "</svg>\n",
              "  </button>\n",
              "\n",
              "<style>\n",
              "  .colab-df-quickchart {\n",
              "      --bg-color: #E8F0FE;\n",
              "      --fill-color: #1967D2;\n",
              "      --hover-bg-color: #E2EBFA;\n",
              "      --hover-fill-color: #174EA6;\n",
              "      --disabled-fill-color: #AAA;\n",
              "      --disabled-bg-color: #DDD;\n",
              "  }\n",
              "\n",
              "  [theme=dark] .colab-df-quickchart {\n",
              "      --bg-color: #3B4455;\n",
              "      --fill-color: #D2E3FC;\n",
              "      --hover-bg-color: #434B5C;\n",
              "      --hover-fill-color: #FFFFFF;\n",
              "      --disabled-bg-color: #3B4455;\n",
              "      --disabled-fill-color: #666;\n",
              "  }\n",
              "\n",
              "  .colab-df-quickchart {\n",
              "    background-color: var(--bg-color);\n",
              "    border: none;\n",
              "    border-radius: 50%;\n",
              "    cursor: pointer;\n",
              "    display: none;\n",
              "    fill: var(--fill-color);\n",
              "    height: 32px;\n",
              "    padding: 0;\n",
              "    width: 32px;\n",
              "  }\n",
              "\n",
              "  .colab-df-quickchart:hover {\n",
              "    background-color: var(--hover-bg-color);\n",
              "    box-shadow: 0 1px 2px rgba(60, 64, 67, 0.3), 0 1px 3px 1px rgba(60, 64, 67, 0.15);\n",
              "    fill: var(--button-hover-fill-color);\n",
              "  }\n",
              "\n",
              "  .colab-df-quickchart-complete:disabled,\n",
              "  .colab-df-quickchart-complete:disabled:hover {\n",
              "    background-color: var(--disabled-bg-color);\n",
              "    fill: var(--disabled-fill-color);\n",
              "    box-shadow: none;\n",
              "  }\n",
              "\n",
              "  .colab-df-spinner {\n",
              "    border: 2px solid var(--fill-color);\n",
              "    border-color: transparent;\n",
              "    border-bottom-color: var(--fill-color);\n",
              "    animation:\n",
              "      spin 1s steps(1) infinite;\n",
              "  }\n",
              "\n",
              "  @keyframes spin {\n",
              "    0% {\n",
              "      border-color: transparent;\n",
              "      border-bottom-color: var(--fill-color);\n",
              "      border-left-color: var(--fill-color);\n",
              "    }\n",
              "    20% {\n",
              "      border-color: transparent;\n",
              "      border-left-color: var(--fill-color);\n",
              "      border-top-color: var(--fill-color);\n",
              "    }\n",
              "    30% {\n",
              "      border-color: transparent;\n",
              "      border-left-color: var(--fill-color);\n",
              "      border-top-color: var(--fill-color);\n",
              "      border-right-color: var(--fill-color);\n",
              "    }\n",
              "    40% {\n",
              "      border-color: transparent;\n",
              "      border-right-color: var(--fill-color);\n",
              "      border-top-color: var(--fill-color);\n",
              "    }\n",
              "    60% {\n",
              "      border-color: transparent;\n",
              "      border-right-color: var(--fill-color);\n",
              "    }\n",
              "    80% {\n",
              "      border-color: transparent;\n",
              "      border-right-color: var(--fill-color);\n",
              "      border-bottom-color: var(--fill-color);\n",
              "    }\n",
              "    90% {\n",
              "      border-color: transparent;\n",
              "      border-bottom-color: var(--fill-color);\n",
              "    }\n",
              "  }\n",
              "</style>\n",
              "\n",
              "  <script>\n",
              "    async function quickchart(key) {\n",
              "      const quickchartButtonEl =\n",
              "        document.querySelector('#' + key + ' button');\n",
              "      quickchartButtonEl.disabled = true;  // To prevent multiple clicks.\n",
              "      quickchartButtonEl.classList.add('colab-df-spinner');\n",
              "      try {\n",
              "        const charts = await google.colab.kernel.invokeFunction(\n",
              "            'suggestCharts', [key], {});\n",
              "      } catch (error) {\n",
              "        console.error('Error during call to suggestCharts:', error);\n",
              "      }\n",
              "      quickchartButtonEl.classList.remove('colab-df-spinner');\n",
              "      quickchartButtonEl.classList.add('colab-df-quickchart-complete');\n",
              "    }\n",
              "    (() => {\n",
              "      let quickchartButtonEl =\n",
              "        document.querySelector('#df-ca9de473-5c62-4084-916c-6544c5ec731a button');\n",
              "      quickchartButtonEl.style.display =\n",
              "        google.colab.kernel.accessAllowed ? 'block' : 'none';\n",
              "    })();\n",
              "  </script>\n",
              "</div>\n",
              "    </div>\n",
              "  </div>\n"
            ]
          },
          "metadata": {},
          "execution_count": 14
        }
      ]
    },
    {
      "cell_type": "code",
      "source": [
        "priority = np.array([1, 1, 2, 2, 3, 1, 2, 3, 2, 3, 2, 2, 3, 1, 1, 3, 3, 1, 1])\n",
        "print(priority.shape)"
      ],
      "metadata": {
        "colab": {
          "base_uri": "https://localhost:8080/"
        },
        "id": "iG6usRYy6tYl",
        "outputId": "008c3657-e2e4-4eb1-889c-d4f39c0b3845"
      },
      "execution_count": null,
      "outputs": [
        {
          "output_type": "stream",
          "name": "stdout",
          "text": [
            "(19,)\n"
          ]
        }
      ]
    },
    {
      "cell_type": "code",
      "source": [
        "curtailment_A = np.array(curtailment_df[\"curtailment_A\"])"
      ],
      "metadata": {
        "id": "bcQqxezXu4_e"
      },
      "execution_count": null,
      "outputs": []
    },
    {
      "cell_type": "code",
      "source": [
        "curtailment_B = np.array(curtailment_df[\"curtailment_B\"])"
      ],
      "metadata": {
        "id": "CmqmkFM2u7pu"
      },
      "execution_count": null,
      "outputs": []
    },
    {
      "cell_type": "code",
      "source": [
        "Max_off = np.array(load_df[\"Max_off\"])\n",
        "Min_on = np.array(load_df[\"Min_on\"])"
      ],
      "metadata": {
        "id": "Q-H4Buu2u9jz"
      },
      "execution_count": null,
      "outputs": []
    },
    {
      "cell_type": "code",
      "source": [
        "'''\n",
        "SEPARATE EXCESS AND UNDER CURTAILMENT\n",
        "'''\n",
        "\n",
        "def fitness_func(p, N, T, capacity, curtailment_rate):\n",
        "  sch = p.x\n",
        "  s1 = 0\n",
        "  curtailment_count = np.zeros(N)\n",
        "  UC = 0\n",
        "\n",
        "  for t in range(T):\n",
        "\n",
        "    hour_curtailment = 0\n",
        "    curtailment_count = np.add(curtailment_count , np.array(sch[t]))\n",
        "\n",
        "    for n in range(N):\n",
        "      s1 += sch[t][n]*capacity[n]*curtailment_rate[n]*(4-priority[n])\n",
        "      hour_curtailment += capacity[n]*sch[t][n]\n",
        "\n",
        "    if hour_curtailment < curtailment_A[t]:\n",
        "      UC += 1\n",
        "\n",
        "  curtailment_count = curtailment_count.astype(int).tolist()\n",
        "\n",
        "  curtailment_freq = [0 for _ in range(T+1)]\n",
        "\n",
        "  for c in curtailment_count:\n",
        "    for j in range(c+1):\n",
        "      curtailment_freq[j] += 1\n",
        "\n",
        "  s2 = 0\n",
        "  for i in range(2, T+1):\n",
        "    s2 += (2**(i-2))*curtailment_freq[i]\n",
        "\n",
        "  V = 0\n",
        "\n",
        "  for i in range(N):\n",
        "    off_hours = curtailment_count[i]\n",
        "    on_hours = T-off_hours\n",
        "\n",
        "    if off_hours > Max_off[i] or on_hours < Min_on[i]:\n",
        "      V += 1\n",
        "\n",
        "  s2 *= 1000\n",
        "\n",
        "  UC *= 10000000\n",
        "\n",
        "  #Implement PAR -----------------------\n",
        "\n",
        "  peak_load = -float(\"inf\")\n",
        "  avg_load = 0\n",
        "\n",
        "  for i in range(T):\n",
        "    hourly_load = 0\n",
        "\n",
        "    for j in range(N):\n",
        "      if sch[i][j] == 0:\n",
        "        hourly_load += capacity[n]\n",
        "\n",
        "    if hourly_load > peak_load:\n",
        "      peak_load = hourly_load\n",
        "\n",
        "    avg_load += hourly_load\n",
        "\n",
        "  avg_load /= T\n",
        "  avg_load += 1\n",
        "\n",
        "  PAR = 10000*(peak_load/avg_load)\n",
        "\n",
        "  # -----------------------------------\n",
        "\n",
        "\n",
        "\n",
        "  # ADDITIONAL CONSTRAINTS IMPLEMENTATION\n",
        "\n",
        "  over = 0\n",
        "  under = 0\n",
        "\n",
        "  for i in range(N):\n",
        "    off_hours = curtailment_count[i]\n",
        "    on_hours = T-off_hours\n",
        "\n",
        "    if off_hours > Max_off[i] or on_hours < Min_on[i]:\n",
        "      over += off_hours - Max_off[i]\n",
        "\n",
        "    if on_hours < Min_on[i]:\n",
        "      under += Min_on[i] - on_hours\n",
        "\n",
        "  over *= 100000\n",
        "  under *= 1000\n",
        "  # return -(s1 + s2 + UC + V)\n",
        "  return -(s1 + s2 + UC + over + under)"
      ],
      "metadata": {
        "id": "LoqwSeh3vBNq"
      },
      "execution_count": null,
      "outputs": []
    },
    {
      "cell_type": "markdown",
      "source": [
        "#***BPSO***"
      ],
      "metadata": {
        "id": "3kbORKYIiw1n"
      }
    },
    {
      "cell_type": "code",
      "source": [
        "class Particle:\n",
        "  def __init__(self, n, t, id = None, show_update=False):\n",
        "\n",
        "    self.show_update = show_update\n",
        "    self.id = id\n",
        "    self.n = n\n",
        "    self.t = t\n",
        "    self.x = np.array([[random.choice([0,1]) for _ in range(self.n)] for __ in range(t)])\n",
        "    self.v = np.array([[random.uniform(-5, 5) for _ in range(self.n)] for __ in range(t)]).astype('float64')\n",
        "    self.fitness = fitness_func(self, self.n, self.t, capacities, curtailment_rate)\n",
        "\n",
        "    self.p_best = self.x.copy()\n",
        "    self.p_best_fitness = self.fitness\n",
        "\n",
        "  def update_vel_pos(self, G_best_x):\n",
        "    inertia = 1\n",
        "    cognitive_coeff = 7.5\n",
        "    social_coeff = 7.5\n",
        "    v_max = 5\n",
        "    threshold = random.random()\n",
        "    # print(self.v.dtype)\n",
        "\n",
        "    r1 = np.random.random((16, 19))\n",
        "    r2 = np.random.random((16, 19))\n",
        "\n",
        "    # r1 = random.random()\n",
        "    # r2 = random.random()\n",
        "    self.v = inertia*self.v + (cognitive_coeff*r1*(np.subtract(self.p_best, self.x)) + social_coeff*r2*(np.subtract(G_best_x, self.x)))\n",
        "    self. v = np.clip(self.v, -v_max, v_max)\n",
        "    # print(self.v)\n",
        "    v_sigm = 1/(1+np.exp(-self.v))\n",
        "\n",
        "\n",
        "    self.x = np.where(v_sigm>threshold, 1, 0)\n",
        "\n",
        "  def compare_bests(self, G_best_score):\n",
        "    self.fitness = fitness_func(self, self.n, self.t, capacities, curtailment_rate)\n",
        "    if self.fitness > self.p_best_fitness:\n",
        "      if self.fitness == 0:\n",
        "        print(\"found 0 solution\")\n",
        "      self.p_best = self.x.copy()\n",
        "      self.p_best_fitness = self.fitness\n",
        "      if self.id:\n",
        "        print(f\"{self.id} found a better solution\")\n",
        "\n",
        "    if self.p_best_fitness > G_best_score:\n",
        "      return (True, self.p_best, self.p_best_fitness)\n",
        "    else:\n",
        "      return (False, None, None)"
      ],
      "metadata": {
        "id": "FXoY6NE_vFZQ"
      },
      "execution_count": null,
      "outputs": []
    },
    {
      "cell_type": "code",
      "source": [
        "P = Particle(19, 16)\n",
        "print(P.x)"
      ],
      "metadata": {
        "colab": {
          "base_uri": "https://localhost:8080/"
        },
        "id": "tlBgcD7pwm0v",
        "outputId": "d519a1d6-cb81-4dcc-8aa2-63a04d9d451f"
      },
      "execution_count": null,
      "outputs": [
        {
          "output_type": "stream",
          "name": "stdout",
          "text": [
            "[[1 1 0 1 1 0 0 1 1 1 0 0 1 1 0 1 0 0 0]\n",
            " [1 1 0 1 1 0 0 1 1 1 1 1 0 1 0 1 0 1 1]\n",
            " [1 0 1 0 0 0 0 1 1 0 1 1 1 0 0 0 0 1 0]\n",
            " [0 1 0 0 1 0 0 0 1 1 1 0 1 1 1 1 0 1 1]\n",
            " [1 1 1 1 0 0 1 0 0 0 1 1 0 1 1 0 1 0 0]\n",
            " [0 0 1 1 0 0 0 1 1 0 1 0 1 1 1 0 1 1 1]\n",
            " [0 1 1 0 1 1 0 0 1 1 1 1 0 0 1 1 0 1 0]\n",
            " [0 1 0 1 1 1 1 1 0 0 0 1 0 1 0 1 1 0 1]\n",
            " [1 1 0 1 0 1 1 0 0 0 1 0 0 0 0 1 0 1 1]\n",
            " [1 1 0 1 1 0 1 0 1 1 1 0 1 1 0 0 1 0 1]\n",
            " [1 0 1 0 0 0 0 1 0 1 1 0 0 0 0 1 0 1 0]\n",
            " [0 1 0 1 1 0 1 1 0 0 0 1 1 0 0 1 1 1 0]\n",
            " [0 0 1 0 0 1 1 1 1 0 0 1 0 1 0 0 1 0 0]\n",
            " [0 0 0 0 1 0 0 0 1 0 0 0 1 0 1 1 0 1 0]\n",
            " [0 1 1 1 1 0 0 1 0 1 1 0 0 0 1 0 0 0 1]\n",
            " [1 1 0 1 1 0 1 1 1 1 1 1 0 0 0 1 1 1 0]]\n"
          ]
        }
      ]
    },
    {
      "cell_type": "code",
      "source": [
        "fitness_func(P, P.n, P.t, capacities, curtailment_rate)"
      ],
      "metadata": {
        "colab": {
          "base_uri": "https://localhost:8080/"
        },
        "id": "yv0csaidwnY7",
        "outputId": "2a0abec3-534c-41c4-c4f8-d03f19456a1e"
      },
      "execution_count": null,
      "outputs": [
        {
          "output_type": "execute_result",
          "data": {
            "text/plain": [
              "-16001944.8"
            ]
          },
          "metadata": {},
          "execution_count": 22
        }
      ]
    },
    {
      "cell_type": "code",
      "source": [
        "print(P.fitness)"
      ],
      "metadata": {
        "colab": {
          "base_uri": "https://localhost:8080/"
        },
        "id": "jnxd5ZNywrO5",
        "outputId": "a908f2a4-3d17-48cd-8623-8c1c0ee8ff17"
      },
      "execution_count": null,
      "outputs": [
        {
          "output_type": "stream",
          "name": "stdout",
          "text": [
            "-16001944.8\n"
          ]
        }
      ]
    },
    {
      "cell_type": "code",
      "source": [
        "Max_iter = 100"
      ],
      "metadata": {
        "id": "VtjaJkBx3IrM"
      },
      "execution_count": null,
      "outputs": []
    },
    {
      "cell_type": "code",
      "source": [
        "swarm = [Particle(19, 16) for _ in range(250)]"
      ],
      "metadata": {
        "id": "JaPR8QhRwssr"
      },
      "execution_count": null,
      "outputs": []
    },
    {
      "cell_type": "code",
      "source": [
        "G_best = Particle(19, 16)\n",
        "G_best_BPSO = G_best.x\n",
        "G_best_score_BPSO = G_best.fitness"
      ],
      "metadata": {
        "id": "z7TFtNh5wuZK"
      },
      "execution_count": null,
      "outputs": []
    },
    {
      "cell_type": "code",
      "source": [
        "G_best_score_BPSO"
      ],
      "metadata": {
        "colab": {
          "base_uri": "https://localhost:8080/"
        },
        "id": "NrbqjDQ-wxNv",
        "outputId": "febdd616-c93d-4b48-bc6d-30c5365ccf22"
      },
      "execution_count": null,
      "outputs": [
        {
          "output_type": "execute_result",
          "data": {
            "text/plain": [
              "-16933490.4"
            ]
          },
          "metadata": {},
          "execution_count": 27
        }
      ]
    },
    {
      "cell_type": "code",
      "source": [
        "import time"
      ],
      "metadata": {
        "id": "j7jXtCNgY3Se"
      },
      "execution_count": null,
      "outputs": []
    },
    {
      "cell_type": "code",
      "source": [
        "G_best_iters = [G_best_score_BPSO]\n",
        "avg_iter_time = 0\n",
        "total_time = time.time()\n",
        "for T in range(Max_iter):\n",
        "  # print(\"ITERATION NUMBER: \",T)\n",
        "  start = time.time()\n",
        "  for p in swarm:\n",
        "    p.update_vel_pos(G_best_BPSO)\n",
        "\n",
        "  for p in swarm:\n",
        "    is_better, personal_sol, personal_score = p.compare_bests(G_best_score_BPSO)\n",
        "    if is_better:\n",
        "      G_best_BPSO, G_best_score_BPSO = personal_sol, personal_score\n",
        "\n",
        "  # print(G_best_score_BPSO)\n",
        "  G_best_iters.append(G_best_score_BPSO)\n",
        "  avg_iter_time += time.time()-start\n",
        "\n",
        "total_time = time.time() - total_time\n",
        "avg_iter_time /= Max_iter\n",
        "print(\"Average iteration time is \",avg_iter_time, \"secs\")\n",
        "print(\"Total run time is \", total_time, \"secs\")\n",
        "\n",
        "  # print(G_best_score)"
      ],
      "metadata": {
        "colab": {
          "base_uri": "https://localhost:8080/"
        },
        "id": "RN_LOHLEwy46",
        "outputId": "9dd00399-f139-4254-85ae-c8257db4fe4b"
      },
      "execution_count": null,
      "outputs": [
        {
          "output_type": "stream",
          "name": "stdout",
          "text": [
            "Average iteration time is  0.4009395956993103 secs\n",
            "Total run time is  40.0946364402771 secs\n"
          ]
        }
      ]
    },
    {
      "cell_type": "code",
      "source": [
        "print(G_best_BPSO)\n",
        "print(-G_best_score_BPSO)"
      ],
      "metadata": {
        "colab": {
          "base_uri": "https://localhost:8080/"
        },
        "id": "1SPhLMoLyAEW",
        "outputId": "2294666a-910f-419c-8b8e-e4b6ef43cb07"
      },
      "execution_count": null,
      "outputs": [
        {
          "output_type": "stream",
          "name": "stdout",
          "text": [
            "[[0 0 0 0 0 0 0 0 0 0 0 0 0 0 0 0 0 0 0]\n",
            " [0 0 0 0 0 0 0 0 0 0 0 0 0 0 0 0 0 0 0]\n",
            " [0 0 0 0 0 0 0 0 0 0 0 0 0 0 0 0 0 0 0]\n",
            " [0 0 0 0 0 0 0 0 0 0 0 0 0 0 0 0 0 0 0]\n",
            " [0 0 0 0 0 0 1 0 0 0 0 0 0 0 0 1 1 0 0]\n",
            " [1 0 1 0 0 0 0 0 0 0 0 0 0 0 1 0 0 0 0]\n",
            " [0 0 0 1 0 0 0 0 0 1 0 0 0 0 0 0 1 1 0]\n",
            " [0 0 0 0 0 0 0 0 0 0 0 0 0 0 0 0 0 0 0]\n",
            " [0 1 0 0 1 0 0 0 0 0 1 0 0 0 0 0 0 0 0]\n",
            " [0 0 1 1 0 1 0 0 1 1 0 1 0 0 0 1 0 0 0]\n",
            " [0 1 1 0 0 0 0 0 0 0 0 0 0 0 0 0 1 0 0]\n",
            " [0 0 0 0 0 0 1 0 0 0 0 0 0 0 0 0 0 0 0]\n",
            " [0 0 0 0 0 0 0 0 0 0 0 0 0 0 0 0 0 0 0]\n",
            " [0 0 0 0 0 0 0 0 0 0 0 0 0 0 0 0 0 0 0]\n",
            " [0 0 0 0 0 0 0 0 0 0 0 0 0 0 0 0 0 0 0]\n",
            " [0 0 0 0 0 0 0 0 0 0 0 0 0 0 0 0 0 0 0]]\n",
            "152366.0\n"
          ]
        }
      ]
    },
    {
      "cell_type": "code",
      "source": [
        "G_best_x_BPSO = [list(row) for row in list(G_best_BPSO)]"
      ],
      "metadata": {
        "id": "KJQ3Gakk0xWl"
      },
      "execution_count": null,
      "outputs": []
    },
    {
      "cell_type": "code",
      "source": [
        "G_best_hourly_BPSO = []\n",
        "\n",
        "for t in range(16):\n",
        "  curtailed = 0\n",
        "  for n in range(19):\n",
        "    curtailed += G_best_x_BPSO[t][n]*capacities[n]\n",
        "\n",
        "  G_best_hourly_BPSO.append(curtailed)\n",
        "\n",
        "np.array(G_best_hourly_BPSO)"
      ],
      "metadata": {
        "colab": {
          "base_uri": "https://localhost:8080/"
        },
        "id": "Hkl2PPl11NlY",
        "outputId": "478ff3b3-b251-4a95-9807-1e3a64a469d4"
      },
      "execution_count": null,
      "outputs": [
        {
          "output_type": "execute_result",
          "data": {
            "text/plain": [
              "array([  0,   0,   0,   0, 460, 440, 464,   0, 340, 816, 460, 100,   0,\n",
              "         0,   0,   0])"
            ]
          },
          "metadata": {},
          "execution_count": 37
        }
      ]
    },
    {
      "cell_type": "code",
      "source": [
        "import matplotlib.pyplot as plt"
      ],
      "metadata": {
        "id": "2wfM-Mwo2Yfg"
      },
      "execution_count": null,
      "outputs": []
    },
    {
      "cell_type": "code",
      "source": [
        "G_best_iters = [-x for x in G_best_iters]"
      ],
      "metadata": {
        "id": "lUkvLLh53lql"
      },
      "execution_count": null,
      "outputs": []
    },
    {
      "cell_type": "code",
      "source": [
        "plt.figure()\n",
        "plt.plot(range(Max_iter+1), G_best_iters, marker='x', linestyle='-')\n",
        "plt.title(\"Best Fitness Value Over Iterations\")\n",
        "plt.xlabel(\"Iteration\")\n",
        "plt.ylabel(\"Best Fitness Value\")\n",
        "plt.grid(True)\n",
        "plt.show()"
      ],
      "metadata": {
        "colab": {
          "base_uri": "https://localhost:8080/",
          "height": 472
        },
        "id": "0LIEBNFp21Zc",
        "outputId": "b4c4ece4-83c3-4ce0-ac55-615a7ab5d6dd"
      },
      "execution_count": null,
      "outputs": [
        {
          "output_type": "display_data",
          "data": {
            "text/plain": [
              "<Figure size 640x480 with 1 Axes>"
            ],
            "image/png": "[encoded data removed]"
          },
          "metadata": {}
        }
      ]
    },
    {
      "cell_type": "code",
      "source": [
        "off_time_BPSO = []\n",
        "for j in range(19):\n",
        "  IL_off = 0\n",
        "  for i in range(16):\n",
        "    IL_off += G_best_x_BPSO[i][j]\n",
        "\n",
        "  off_time_BPSO.append(IL_off)\n",
        "\n",
        "off_time_BPSO"
      ],
      "metadata": {
        "colab": {
          "base_uri": "https://localhost:8080/"
        },
        "id": "WNN9TnWQXk0w",
        "outputId": "e50dd2f2-4223-4468-9a26-c51c78076bb1"
      },
      "execution_count": null,
      "outputs": [
        {
          "output_type": "execute_result",
          "data": {
            "text/plain": [
              "[1, 2, 3, 2, 1, 1, 2, 0, 1, 2, 1, 1, 0, 0, 1, 2, 3, 1, 0]"
            ]
          },
          "metadata": {},
          "execution_count": 41
        }
      ]
    },
    {
      "cell_type": "code",
      "source": [
        "on_time_BPSO = [16-t for t in off_time_BPSO]\n",
        "on_time_BPSO"
      ],
      "metadata": {
        "colab": {
          "base_uri": "https://localhost:8080/"
        },
        "id": "9dwJ7_ZVYlBE",
        "outputId": "c430fb1c-0516-438b-9d1f-c78dec8e61fc"
      },
      "execution_count": null,
      "outputs": [
        {
          "output_type": "execute_result",
          "data": {
            "text/plain": [
              "[15, 14, 13, 14, 15, 15, 14, 16, 15, 14, 15, 15, 16, 16, 15, 14, 13, 15, 16]"
            ]
          },
          "metadata": {},
          "execution_count": 43
        }
      ]
    },
    {
      "cell_type": "code",
      "source": [
        "print(\"----------------------IL priorities and number of times interrupted----------------------\")\n",
        "priority_curtailment_dict_BPSO = {1:0, 2:0, 3:0}\n",
        "for i in range(16):\n",
        "  # print(f\"\\nIL number {i}: priority {priority[i]}: curtailed {np.sum(G_best_x_BPSO[i])}\\n\")\n",
        "  priority_curtailment_dict_BPSO[priority[i]] += np.sum(G_best_x_BPSO[i])"
      ],
      "metadata": {
        "colab": {
          "base_uri": "https://localhost:8080/"
        },
        "id": "yWhtxxDE7mCO",
        "outputId": "5f96cfac-22a5-4df8-f367-7d82078287dc"
      },
      "execution_count": null,
      "outputs": [
        {
          "output_type": "stream",
          "name": "stdout",
          "text": [
            "----------------------IL priorities and number of times interrupted----------------------\n"
          ]
        }
      ]
    },
    {
      "cell_type": "code",
      "source": [
        "priority_curtailment_dict_BPSO"
      ],
      "metadata": {
        "colab": {
          "base_uri": "https://localhost:8080/"
        },
        "id": "_TklcYGw8SMm",
        "outputId": "c30bf1fc-efa1-4457-91a3-7da97383ce1b"
      },
      "execution_count": null,
      "outputs": [
        {
          "output_type": "execute_result",
          "data": {
            "text/plain": [
              "{1: 3, 2: 11, 3: 10}"
            ]
          },
          "metadata": {},
          "execution_count": 45
        }
      ]
    },
    {
      "cell_type": "code",
      "source": [
        "BPSO_hourly_cost = []\n",
        "T = 16\n",
        "N = 19\n",
        "for t in range(T):\n",
        "  hourly_cost = 0\n",
        "  for n in range(N):\n",
        "    hourly_cost += G_best_BPSO[t][n]*capacities[n]*curtailment_rate[n]*(4-priority[n])\n",
        "  BPSO_hourly_cost.append(hourly_cost)\n",
        "    # hour_curtailment += capacities[n]*sch[t][n]\n"
      ],
      "metadata": {
        "id": "ExVzloMg5xUd"
      },
      "execution_count": null,
      "outputs": []
    },
    {
      "cell_type": "code",
      "source": [
        "peak_load = -float(\"inf\")\n",
        "avg_load = 0\n",
        "T = 16\n",
        "N = 19\n",
        "for i in range(T):\n",
        "  hourly_load = 0\n",
        "\n",
        "  for j in range(N):\n",
        "    if G_best_BPSO[i][j] == 0:\n",
        "      hourly_load += capacities[j]\n",
        "\n",
        "  if hourly_load > peak_load:\n",
        "    peak_load = hourly_load\n",
        "\n",
        "  avg_load += hourly_load\n",
        "\n",
        "avg_load /= T\n",
        "avg_load += 1\n",
        "\n",
        "PAR_BPSO = (peak_load/avg_load)"
      ],
      "metadata": {
        "id": "ToHUnFOs-aNc"
      },
      "execution_count": null,
      "outputs": []
    },
    {
      "cell_type": "markdown",
      "source": [
        "#***Differential Evolution***"
      ],
      "metadata": {
        "id": "IYVytroUfnQA"
      }
    },
    {
      "cell_type": "code",
      "source": [
        "'''\n",
        "EXTRA CURTAILMENT CONSTRAINT\n",
        "OPERATIONAL DURATION\n",
        "'''\n",
        "\n",
        "def obj_func(sol, N, T, capacity, curtailment_rate):\n",
        "\n",
        "  sch = sol\n",
        "  s1 = 0\n",
        "  curtailment_count = np.zeros(N)\n",
        "  UC = 0\n",
        "  for t in range(T):\n",
        "\n",
        "    hour_curtailment = 0\n",
        "    curtailment_count = np.add(curtailment_count , np.array(sch[t]))\n",
        "    for n in range(N):\n",
        "      s1 += sch[t][n]*capacity[n]*curtailment_rate[n]*(4-priority[n])\n",
        "      hour_curtailment += capacity[n]*sch[t][n]\n",
        "\n",
        "    if hour_curtailment < curtailment_A[t]:\n",
        "      UC += 1\n",
        "\n",
        "  curtailment_count = curtailment_count.astype(int).tolist()\n",
        "\n",
        "  curtailment_freq = [0 for _ in range(T+1)]\n",
        "\n",
        "  for c in curtailment_count:\n",
        "    for j in range(c+1):\n",
        "      curtailment_freq[j] += 1\n",
        "\n",
        "  s2 = 0\n",
        "  for i in range(2, T+1):\n",
        "    s2 += (2**(i-2))*curtailment_freq[i]\n",
        "\n",
        "\n",
        "  s2 *= 1000\n",
        "\n",
        "  UC *= 10000000\n",
        "\n",
        "  #Implement PAR -----------------------\n",
        "\n",
        "  peak_load = -float(\"inf\")\n",
        "  avg_load = 0\n",
        "\n",
        "  for i in range(T):\n",
        "    hourly_load = 0\n",
        "\n",
        "    for j in range(N):\n",
        "      if sch[i][j] == 0:\n",
        "        hourly_load += capacity[n]\n",
        "\n",
        "    if hourly_load > peak_load:\n",
        "      peak_load = hourly_load\n",
        "\n",
        "    avg_load += hourly_load\n",
        "\n",
        "  avg_load /= T\n",
        "  avg_load += 1\n",
        "\n",
        "  PAR = 10000*(peak_load/avg_load)\n",
        "\n",
        "  # -----------------------------------\n",
        "\n",
        "\n",
        "  # ADDITIONAL CONSTRAINTS IMPLEMENTATION\n",
        "\n",
        "  over = 0\n",
        "  under = 0\n",
        "\n",
        "  for i in range(N):\n",
        "    off_hours = curtailment_count[i]\n",
        "    on_hours = T-off_hours\n",
        "\n",
        "    if off_hours > Max_off[i]:\n",
        "      over += off_hours - Max_off[i]\n",
        "\n",
        "    if on_hours < Min_on[i]:\n",
        "      under += Min_on[i] - on_hours\n",
        "\n",
        "  over *= 100000\n",
        "  under *= 100000\n",
        "  return -(s1 + s2 + UC + over + under)"
      ],
      "metadata": {
        "id": "l4S6r8cIm7b5"
      },
      "execution_count": null,
      "outputs": []
    },
    {
      "cell_type": "code",
      "source": [
        "import random\n",
        "import numpy as np\n",
        "\n",
        "matrix_size = (16,19)  # Size of the 2D matrix\n",
        "population_size = 20  # Number of solns\n",
        "max_iterations = 100  # Max number of iterations\n",
        "cr = 0.8  # Crossover rate\n",
        "f = 0.5   # Differential weight\n",
        "population = []\n",
        "\n",
        "\n",
        "# Initialize the population\n",
        "for _ in range(population_size):\n",
        "    solution = np.random.choice([0, 1], size=matrix_size)\n",
        "    population.append(solution)\n",
        "\n",
        "# Main Differential Evolution loop\n",
        "total_time = time.time()\n",
        "avg_iter_time = 0\n",
        "for iteration in range(max_iterations):\n",
        "    avg_iter_time -= time.time()\n",
        "    new_population = []\n",
        "\n",
        "    for i in range(population_size):\n",
        "        a, b, c = random.sample(population, 3)\n",
        "\n",
        "        trial_solution = population[i].copy()\n",
        "        for j in range(matrix_size[0]):\n",
        "            for k in range(matrix_size[1]):\n",
        "                if random.random() < cr or j == random.randint(0, matrix_size[0] - 1):\n",
        "                    trial_solution[j, k] = int(a[j, k] + f * (b[j, k] - c[j, k]))\n",
        "\n",
        "        trial_fitness = obj_func(trial_solution, 19, 16, capacities, curtailment_rate)\n",
        "        current_fitness = obj_func(population[i], 19, 16, capacities, curtailment_rate)\n",
        "\n",
        "        if trial_fitness >= current_fitness:\n",
        "            new_population.append(trial_solution)\n",
        "        else:\n",
        "            new_population.append(population[i])\n",
        "\n",
        "    population = new_population\n",
        "    avg_iter_time += time.time()\n",
        "\n",
        "total_time = time.time() - total_time\n",
        "avg_iter_time /= max_iterations\n",
        "# Find the best solution in the population\n",
        "best_fitness = -float(\"inf\")\n",
        "best_solution = None\n",
        "\n",
        "for x in population:\n",
        "  fitness = obj_func(x, 19, 16, capacities, curtailment_rate)\n",
        "  if fitness > best_fitness:\n",
        "    best_solution = x\n",
        "    best_fitness = fitness\n",
        "\n",
        "print(\"Best solution:\")\n",
        "print(best_solution)\n",
        "print(\"Best fitness:\", -best_fitness)  # Convert back to positive value\n",
        "print(\"Average iteration time is \",avg_iter_time, \"secs\")\n",
        "print(\"Total run time is \", total_time, \"secs\")\n"
      ],
      "metadata": {
        "colab": {
          "base_uri": "https://localhost:8080/"
        },
        "id": "t5hWjy9qcKjU",
        "outputId": "e2d8aa12-d77f-4ce4-8118-29f645e53128"
      },
      "execution_count": null,
      "outputs": [
        {
          "output_type": "stream",
          "name": "stdout",
          "text": [
            "Best solution:\n",
            "[[0 0 0 0 0 0 0 0 0 0 0 0 0 0 0 0 0 0 0]\n",
            " [0 0 0 1 0 0 0 0 0 0 0 0 0 0 0 0 0 0 0]\n",
            " [0 0 0 0 0 0 0 0 0 0 0 0 0 0 0 0 0 0 0]\n",
            " [0 0 0 0 0 0 0 0 0 0 0 0 0 0 0 0 0 0 0]\n",
            " [0 1 0 0 0 0 0 0 0 0 0 0 0 1 0 0 1 0 0]\n",
            " [1 0 0 1 0 0 0 0 0 0 0 0 0 1 0 0 0 0 0]\n",
            " [1 0 0 0 0 0 0 0 0 0 0 1 0 0 0 1 0 0 0]\n",
            " [0 0 0 0 0 0 0 0 0 0 0 0 0 0 0 0 0 0 0]\n",
            " [0 0 0 0 1 0 0 0 1 0 0 0 0 0 0 0 0 0 1]\n",
            " [1 1 0 0 0 1 0 0 0 0 0 0 0 0 0 1 0 0 0]\n",
            " [0 1 1 0 0 0 0 0 1 0 0 0 0 0 0 0 0 0 0]\n",
            " [0 0 0 0 0 0 0 0 0 0 0 0 0 1 0 0 0 0 0]\n",
            " [0 0 0 0 0 0 0 0 0 0 1 0 0 0 0 0 0 0 0]\n",
            " [0 0 0 0 0 0 0 0 0 0 0 0 0 0 0 0 0 0 0]\n",
            " [0 0 0 0 0 0 0 0 0 0 0 0 0 0 0 0 0 0 0]\n",
            " [0 0 0 0 0 0 0 0 0 0 0 0 0 0 0 0 0 0 0]]\n",
            "Best fitness: 201868.0\n",
            "Average iteration time is  0.09990335464477539 secs\n",
            "Total run time is  9.9911789894104 secs\n"
          ]
        }
      ]
    },
    {
      "cell_type": "code",
      "source": [
        "G_best_DE = best_solution\n",
        "G_best_score_DE = -best_fitness"
      ],
      "metadata": {
        "id": "xj-4zQe0mN3S"
      },
      "execution_count": null,
      "outputs": []
    },
    {
      "cell_type": "code",
      "source": [
        "G_best_x_DE = [list(row) for row in list(G_best_DE)]"
      ],
      "metadata": {
        "id": "LqVjEnnBsUs8"
      },
      "execution_count": null,
      "outputs": []
    },
    {
      "cell_type": "code",
      "source": [
        "off_time_DE = []\n",
        "for j in range(19):\n",
        "  IL_off = 0\n",
        "  for i in range(16):\n",
        "    IL_off += G_best_x_DE[i][j]\n",
        "\n",
        "  off_time_DE.append(IL_off)\n",
        "\n",
        "off_time_DE"
      ],
      "metadata": {
        "colab": {
          "base_uri": "https://localhost:8080/"
        },
        "id": "-rR8IKQFvFQv",
        "outputId": "cbcf779f-2e70-4805-d8ce-eb2fe55ac88a"
      },
      "execution_count": null,
      "outputs": [
        {
          "output_type": "execute_result",
          "data": {
            "text/plain": [
              "[3, 3, 1, 2, 1, 1, 0, 0, 2, 0, 1, 1, 0, 3, 0, 2, 1, 0, 1]"
            ]
          },
          "metadata": {},
          "execution_count": 58
        }
      ]
    },
    {
      "cell_type": "code",
      "source": [
        "on_time_DE = [16-t for t in off_time_DE]\n",
        "on_time_DE"
      ],
      "metadata": {
        "colab": {
          "base_uri": "https://localhost:8080/"
        },
        "id": "NDPLYgj5wOAG",
        "outputId": "614079cc-2c2f-4add-bf1d-321581f99a45"
      },
      "execution_count": null,
      "outputs": [
        {
          "output_type": "execute_result",
          "data": {
            "text/plain": [
              "[13, 13, 15, 14, 15, 15, 16, 16, 14, 16, 15, 15, 16, 13, 16, 14, 15, 16, 15]"
            ]
          },
          "metadata": {},
          "execution_count": 59
        }
      ]
    },
    {
      "cell_type": "code",
      "source": [
        "print(\"----------------------IL priorities and number of times interrupted----------------------\")\n",
        "priority_curtailment_dict_DE = {1:0, 2:0, 3:0}\n",
        "for i in range(16):\n",
        "  # print(f\"\\nIL number {i}: priority {priority[i]}: curtailed {np.sum(G_best_x_DE[i])}\\n\")\n",
        "  priority_curtailment_dict_DE[priority[i]] += np.sum(G_best_x_DE[i])"
      ],
      "metadata": {
        "colab": {
          "base_uri": "https://localhost:8080/"
        },
        "id": "m4KYnIVjwSZ5",
        "outputId": "e0b22811-2844-4da1-bb7e-6280d18a0e22"
      },
      "execution_count": null,
      "outputs": [
        {
          "output_type": "stream",
          "name": "stdout",
          "text": [
            "----------------------IL priorities and number of times interrupted----------------------\n"
          ]
        }
      ]
    },
    {
      "cell_type": "code",
      "source": [
        "priority_curtailment_dict_DE"
      ],
      "metadata": {
        "colab": {
          "base_uri": "https://localhost:8080/"
        },
        "id": "wQZznAUlwXST",
        "outputId": "a7351def-2fef-4bd4-9214-cd249c1b073e"
      },
      "execution_count": null,
      "outputs": [
        {
          "output_type": "execute_result",
          "data": {
            "text/plain": [
              "{1: 4, 2: 10, 3: 8}"
            ]
          },
          "metadata": {},
          "execution_count": 61
        }
      ]
    },
    {
      "cell_type": "code",
      "source": [
        "G_best_hourly_DE = []\n",
        "\n",
        "for t in range(16):\n",
        "  curtailed = 0\n",
        "  for n in range(19):\n",
        "    curtailed += G_best_x_DE[t][n]*capacities[n]\n",
        "\n",
        "  G_best_hourly_DE.append(curtailed)\n",
        "\n",
        "np.array(G_best_hourly_DE)"
      ],
      "metadata": {
        "colab": {
          "base_uri": "https://localhost:8080/"
        },
        "id": "GGR3oLva0prf",
        "outputId": "b015024e-cd04-421f-e314-f61a64f3e292"
      },
      "execution_count": null,
      "outputs": [
        {
          "output_type": "execute_result",
          "data": {
            "text/plain": [
              "array([  0,  84,   0,   0, 460, 484, 572,   0, 360, 860, 480,  80,  40,\n",
              "         0,   0,   0])"
            ]
          },
          "metadata": {},
          "execution_count": 69
        }
      ]
    },
    {
      "cell_type": "code",
      "source": [
        "DE_hourly_cost = []\n",
        "T = 16\n",
        "N = 19\n",
        "for t in range(T):\n",
        "  hourly_cost = 0\n",
        "  for n in range(N):\n",
        "    hourly_cost += G_best_DE[t][n]*capacities[n]*curtailment_rate[n]*(4-priority[n])\n",
        "  DE_hourly_cost.append(hourly_cost)\n",
        "    # hour_curtailment += capacities[n]*sch[t][n]\n"
      ],
      "metadata": {
        "id": "PqrZhJYj9Ke0"
      },
      "execution_count": null,
      "outputs": []
    },
    {
      "cell_type": "code",
      "source": [
        "peak_load = -float(\"inf\")\n",
        "avg_load = 0\n",
        "T = 16\n",
        "N = 19\n",
        "for i in range(T):\n",
        "  hourly_load = 0\n",
        "\n",
        "  for j in range(N):\n",
        "    if G_best_DE[i][j] == 0:\n",
        "      hourly_load += capacities[j]\n",
        "\n",
        "  if hourly_load > peak_load:\n",
        "    peak_load = hourly_load\n",
        "\n",
        "  avg_load += hourly_load\n",
        "\n",
        "avg_load /= T\n",
        "avg_load += 1\n",
        "\n",
        "PAR_DE = (peak_load/avg_load)"
      ],
      "metadata": {
        "id": "ixnsyeClAN-J"
      },
      "execution_count": null,
      "outputs": []
    },
    {
      "cell_type": "markdown",
      "source": [
        "#***Harmonic Memory Search***"
      ],
      "metadata": {
        "id": "fYYi9LkIyAZp"
      }
    },
    {
      "cell_type": "code",
      "source": [
        "import random\n",
        "import numpy as np\n",
        "\n",
        "matrix_size = (16, 19)  # Size of the 2D matrix\n",
        "harmony_memory_size = 10  # Size of the harmony memory\n",
        "max_iterations = 100  # Maximum number of iterations\n",
        "harmony_memory = []\n",
        "\n",
        "HMCR = 0.2 #Harmonic memory consideration\n",
        "PAR = 0.5 #Pitch adjustment rate\n",
        "\n",
        "# Initialize the harmony memory with random binary matrices\n",
        "for _ in range(harmony_memory_size):\n",
        "    solution = np.random.choice([0, 1], size=matrix_size)\n",
        "    harmony_memory.append(solution)\n",
        "\n",
        "total_time = time.time()\n",
        "avg_iter_time = 0\n",
        "\n",
        "# Main Harmony Search loop\n",
        "for iteration in range(max_iterations):\n",
        "    avg_iter_time -= time.time()\n",
        "    if random.random() <= HMCR:\n",
        "      new_solution = random.choice(harmony_memory)\n",
        "      for i in range(matrix_size[0]):\n",
        "        for j in range(matrix_size[1]):\n",
        "            if random.random() <= PAR:\n",
        "                new_solution[i, j] = random.choice([0, 1])\n",
        "    else:\n",
        "      new_solution = np.random.choice([0, 1], size=matrix_size)\n",
        "\n",
        "\n",
        "    # Evaluate the new solution\n",
        "    new_solution_fitness = -obj_func(new_solution, 19, 16, capacities, curtailment_rate)\n",
        "\n",
        "    # Find the worst solution in the harmony memory\n",
        "    worst_fitness = -float(\"inf\")\n",
        "    worst_index = None\n",
        "\n",
        "    for i in range(len(harmony_memory)):\n",
        "      fitness = -obj_func(harmony_memory[i], 19, 16, capacities, curtailment_rate)\n",
        "      if fitness > worst_fitness:\n",
        "        worst_fitness = fitness\n",
        "        worst_index = i\n",
        "\n",
        "    # Replace the worst solution if the new solution is better\n",
        "    if new_solution_fitness < worst_fitness:\n",
        "        # print(new_solution_fitness)\n",
        "        harmony_memory[worst_index] = new_solution\n",
        "\n",
        "    avg_iter_time += time.time()\n",
        "\n",
        "# Find the best solution in the harmony memory\n",
        "total_time = time.time() - total_time\n",
        "avg_iter_time /= max_iterations\n",
        "best_fitness = float(\"inf\")\n",
        "best_solution = None\n",
        "\n",
        "for sol in harmony_memory:\n",
        "  fitness = -obj_func(sol, 19, 16, capacities, curtailment_rate)\n",
        "  if fitness < best_fitness:\n",
        "    best_fitness = fitness\n",
        "    best_solution = sol\n",
        "\n",
        "print(\"Best solution:\")\n",
        "print(best_solution)\n",
        "print(\"Best fitness:\", best_fitness)\n",
        "print(\"Average iteration time is \",avg_iter_time, \"secs\")\n",
        "print(\"Total run time is \", total_time, \"secs\")\n"
      ],
      "metadata": {
        "colab": {
          "base_uri": "https://localhost:8080/"
        },
        "id": "yTWDjBxTwY2Y",
        "outputId": "b334fa14-f081-49e4-da4f-a7e2e7ebc707"
      },
      "execution_count": null,
      "outputs": [
        {
          "output_type": "stream",
          "name": "stdout",
          "text": [
            "Best solution:\n",
            "[[1 0 1 1 0 1 1 1 0 0 1 0 0 0 0 0 1 0 0]\n",
            " [1 1 1 0 1 1 1 1 1 0 0 1 1 0 1 1 1 0 1]\n",
            " [1 1 0 0 0 0 0 0 0 0 1 0 1 1 0 0 1 0 0]\n",
            " [0 1 0 0 0 1 1 1 0 1 0 0 0 1 0 1 0 0 1]\n",
            " [0 1 0 0 0 0 0 0 0 1 0 1 1 0 1 0 0 1 0]\n",
            " [1 0 1 0 0 1 1 1 1 0 1 1 1 0 1 1 0 0 1]\n",
            " [0 0 1 1 0 1 0 0 1 1 1 1 1 0 1 0 0 1 0]\n",
            " [1 0 1 1 1 1 0 0 1 0 0 1 1 1 0 0 0 0 1]\n",
            " [1 0 1 0 0 0 1 0 0 0 0 1 0 0 0 1 0 1 0]\n",
            " [1 0 1 1 0 1 0 0 0 1 1 0 0 1 0 1 0 1 0]\n",
            " [0 0 0 0 1 0 0 1 0 0 1 0 1 1 0 0 1 1 0]\n",
            " [0 0 0 0 0 1 0 1 0 1 0 0 1 0 0 1 0 0 0]\n",
            " [0 0 0 1 0 0 0 0 1 0 1 1 0 1 0 0 0 1 0]\n",
            " [0 0 0 1 1 1 0 0 1 1 1 1 1 1 1 0 0 1 1]\n",
            " [0 0 0 0 0 0 1 0 1 1 1 0 0 1 1 0 1 1 0]\n",
            " [1 0 0 1 1 0 1 0 0 1 0 1 0 0 0 1 1 0 0]]\n",
            "Best fitness: 9456108.8\n",
            "Average iteration time is  0.015032813549041749 secs\n",
            "Total run time is  1.504028558731079 secs\n"
          ]
        }
      ]
    },
    {
      "cell_type": "code",
      "source": [
        "G_best_HMS = best_solution\n",
        "G_best_score_HMS = best_fitness"
      ],
      "metadata": {
        "id": "cSkmn-q_yMbo"
      },
      "execution_count": null,
      "outputs": []
    },
    {
      "cell_type": "code",
      "source": [
        "G_best_x_HMS = [list(row) for row in list(G_best_HMS)]"
      ],
      "metadata": {
        "id": "B8oPsOh8ztWw"
      },
      "execution_count": null,
      "outputs": []
    },
    {
      "cell_type": "code",
      "source": [
        "off_time_HMS = []\n",
        "for j in range(19):\n",
        "  IL_off = 0\n",
        "  for i in range(16):\n",
        "    IL_off += G_best_x_HMS[i][j]\n",
        "\n",
        "  off_time_HMS.append(IL_off)\n",
        "\n",
        "off_time_HMS"
      ],
      "metadata": {
        "colab": {
          "base_uri": "https://localhost:8080/"
        },
        "id": "D71-AARaz1oQ",
        "outputId": "4e4fef5f-b583-499d-c39c-1e4ffcfd6a24"
      },
      "execution_count": null,
      "outputs": [
        {
          "output_type": "execute_result",
          "data": {
            "text/plain": [
              "[8, 4, 7, 7, 5, 9, 7, 6, 7, 8, 9, 9, 9, 8, 6, 7, 6, 8, 5]"
            ]
          },
          "metadata": {},
          "execution_count": 116
        }
      ]
    },
    {
      "cell_type": "code",
      "source": [
        "on_time_HMS = [16-t for t in off_time_HMS]\n",
        "on_time_HMS"
      ],
      "metadata": {
        "colab": {
          "base_uri": "https://localhost:8080/"
        },
        "id": "xwJO3cr0z3Vp",
        "outputId": "604b91b6-1a22-4cfb-caaf-3234ed250a74"
      },
      "execution_count": null,
      "outputs": [
        {
          "output_type": "execute_result",
          "data": {
            "text/plain": [
              "[8, 12, 9, 9, 11, 7, 9, 10, 9, 8, 7, 7, 7, 8, 10, 9, 10, 8, 11]"
            ]
          },
          "metadata": {},
          "execution_count": 117
        }
      ]
    },
    {
      "cell_type": "code",
      "source": [
        "print(\"----------------------IL priorities and number of times interrupted----------------------\")\n",
        "priority_curtailment_dict_HMS = {1:0, 2:0, 3:0}\n",
        "for i in range(16):\n",
        "  # print(f\"\\nIL number {i}: priority {priority[i]}: curtailed {np.sum(G_best_x_HMS[i])}\\n\")\n",
        "  priority_curtailment_dict_HMS[priority[i]] += np.sum(G_best_x_HMS[i])\n",
        "priority_curtailment_dict_HMS"
      ],
      "metadata": {
        "colab": {
          "base_uri": "https://localhost:8080/"
        },
        "id": "zKTjrXEvz8IW",
        "outputId": "6e95cb2f-6808-4be8-8470-aa203cb181fb"
      },
      "execution_count": null,
      "outputs": [
        {
          "output_type": "stream",
          "name": "stdout",
          "text": [
            "----------------------IL priorities and number of times interrupted----------------------\n"
          ]
        },
        {
          "output_type": "execute_result",
          "data": {
            "text/plain": [
              "{1: 54, 2: 42, 3: 39}"
            ]
          },
          "metadata": {},
          "execution_count": 118
        }
      ]
    },
    {
      "cell_type": "code",
      "source": [
        "G_best_hourly_HMS = []\n",
        "\n",
        "for t in range(16):\n",
        "  curtailed = 0\n",
        "  for n in range(19):\n",
        "    curtailed += G_best_x_HMS[t][n]*capacities[n]\n",
        "\n",
        "  G_best_hourly_HMS.append(curtailed)\n",
        "\n",
        "np.array(G_best_hourly_HMS)"
      ],
      "metadata": {
        "colab": {
          "base_uri": "https://localhost:8080/"
        },
        "id": "mPeMRIBE0tnS",
        "outputId": "dd12f820-5097-4888-9c7f-71aaa4b302cf"
      },
      "execution_count": null,
      "outputs": [
        {
          "output_type": "execute_result",
          "data": {
            "text/plain": [
              "array([1024, 1892,  960,  880,  652, 1452, 1016, 1296,  912, 1144,  760,\n",
              "        580,  636, 1176,  840, 1076])"
            ]
          },
          "metadata": {},
          "execution_count": 119
        }
      ]
    },
    {
      "cell_type": "code",
      "source": [
        "HMS_hourly_cost = []\n",
        "T = 16\n",
        "N = 19\n",
        "for t in range(T):\n",
        "  hourly_cost = 0\n",
        "  for n in range(N):\n",
        "    hourly_cost += G_best_HMS[t][n]*capacities[n]*curtailment_rate[n]*(4-priority[n])\n",
        "  HMS_hourly_cost.append(hourly_cost)\n",
        "    # hour_curtailment += capacities[n]*sch[t][n]\n"
      ],
      "metadata": {
        "id": "iCsfGneE51IH"
      },
      "execution_count": null,
      "outputs": []
    },
    {
      "cell_type": "code",
      "source": [
        "peak_load = -float(\"inf\")\n",
        "avg_load = 0\n",
        "T = 16\n",
        "N = 19\n",
        "for i in range(T):\n",
        "  hourly_load = 0\n",
        "\n",
        "  for j in range(N):\n",
        "    if G_best_HMS[i][j] == 0:\n",
        "      hourly_load += capacities[j]\n",
        "\n",
        "  if hourly_load > peak_load:\n",
        "    peak_load = hourly_load\n",
        "\n",
        "  avg_load += hourly_load\n",
        "\n",
        "avg_load /= T\n",
        "avg_load += 1\n",
        "\n",
        "PAR_HMS = (peak_load/avg_load)"
      ],
      "metadata": {
        "id": "XovHz4NNARIx"
      },
      "execution_count": null,
      "outputs": []
    },
    {
      "cell_type": "markdown",
      "source": [
        "#***RESULTS COMPARISION***"
      ],
      "metadata": {
        "id": "hf6e2wjv0HM6"
      }
    },
    {
      "cell_type": "code",
      "source": [
        "plt.figure()\n",
        "plt.plot(curtailment_A, marker='x', linestyle='-', color=\"r\", label=\"Required curtailment\")\n",
        "plt.plot(G_best_hourly_BPSO, marker='x', linestyle='-', color=\"b\", label=\"BPSO curtailment\")\n",
        "plt.plot(G_best_hourly_DE, marker='x', linestyle='-', color=\"g\", label=\"DE curtailment\")\n",
        "plt.plot(G_best_hourly_HMS, marker='x', linestyle='-', color=\"m\", label=\"HMS curtailment\")\n",
        "plt.title(\"Curtailment comparison\")\n",
        "plt.xlabel(\"Hours\")\n",
        "plt.ylabel(\"curtailment (Kw)\")\n",
        "plt.grid(True)\n",
        "plt.legend()\n",
        "plt.show()"
      ],
      "metadata": {
        "colab": {
          "base_uri": "https://localhost:8080/",
          "height": 472
        },
        "id": "AsqsShzn01dB",
        "outputId": "8ba71a6b-ee8f-4d3e-e3ed-e768d8bfb823"
      },
      "execution_count": null,
      "outputs": [
        {
          "output_type": "display_data",
          "data": {
            "text/plain": [
              "<Figure size 640x480 with 1 Axes>"
            ],
            "image/png": "[encoded data removed]"
          },
          "metadata": {}
        }
      ]
    },
    {
      "cell_type": "code",
      "source": [
        "import matplotlib.pyplot as plt\n",
        "import numpy as np\n",
        "\n",
        "# Sample labels for the x-axis (replace these with your labels)\n",
        "labels = [f'{i+1}' for i in range(19)]\n",
        "\n",
        "# Set the width of the bars\n",
        "bar_width = 0.25\n",
        "\n",
        "# Calculate the position of each bar on the x-axis\n",
        "x = np.arange(len(labels))\n",
        "\n",
        "# Create the bar graphs for each dataset\n",
        "plt.bar(x - bar_width, on_time_BPSO, bar_width, label='BPSO')\n",
        "plt.bar(x, on_time_DE, bar_width, label='DE')\n",
        "plt.bar(x + bar_width, on_time_HMS, bar_width, label='HMS')\n",
        "\n",
        "# Set x-axis labels\n",
        "plt.xticks(x, labels)\n",
        "\n",
        "# Add a legend\n",
        "plt.legend()\n",
        "\n",
        "# Set labels and title\n",
        "plt.xlabel('Appliances')\n",
        "plt.ylabel('Hours')\n",
        "plt.title('On time comparision')\n",
        "\n",
        "# Show the plot\n",
        "plt.tight_layout()\n",
        "# plt.grid(True)\n",
        "plt.show()\n"
      ],
      "metadata": {
        "colab": {
          "base_uri": "https://localhost:8080/",
          "height": 487
        },
        "id": "J_-J3pAU1FM1",
        "outputId": "62dbdb38-cf3e-4dcb-d6a3-42d94866130f"
      },
      "execution_count": null,
      "outputs": [
        {
          "output_type": "display_data",
          "data": {
            "text/plain": [
              "<Figure size 640x480 with 1 Axes>"
            ],
            "image/png": "[encoded data removed]"
          },
          "metadata": {}
        }
      ]
    },
    {
      "cell_type": "code",
      "source": [
        "plt.figure()\n",
        "# plt.plot(curtailment_A, marker='x', linestyle='-', color=\"r\", label=\"Required curtailment\")\n",
        "plt.plot(BPSO_hourly_cost, marker='x', linestyle='-', color=\"b\", label=\"BPSO\")\n",
        "plt.plot(DE_hourly_cost, marker='x', linestyle='-', color=\"g\", label=\"DE\")\n",
        "plt.plot(HMS_hourly_cost, marker='x', linestyle='-', color=\"m\", label=\"HMS\")\n",
        "plt.title(\"Weighted hourly cost\")\n",
        "plt.xlabel(\"Hours\")\n",
        "plt.ylabel(\"cost\")\n",
        "plt.grid(True)\n",
        "plt.legend()\n",
        "plt.show()"
      ],
      "metadata": {
        "colab": {
          "base_uri": "https://localhost:8080/",
          "height": 472
        },
        "id": "sI8ndrkT1lLE",
        "outputId": "03f2b1e7-1561-4923-d026-c78f0655fbd6"
      },
      "execution_count": null,
      "outputs": [
        {
          "output_type": "display_data",
          "data": {
            "text/plain": [
              "<Figure size 640x480 with 1 Axes>"
            ],
            "image/png": "[encoded data removed]"
          },
          "metadata": {}
        }
      ]
    },
    {
      "cell_type": "code",
      "source": [
        "print(\"Peak to average ratios:\")\n",
        "print(\"BPSO:\", PAR_BPSO)\n",
        "print(\"DE:\", PAR_DE)\n",
        "print(\"HMS:\", PAR_HMS)"
      ],
      "metadata": {
        "id": "cL-quV3f6O0J",
        "colab": {
          "base_uri": "https://localhost:8080/"
        },
        "outputId": "e68a99bd-90ec-4a70-c1a8-9c59a5c241b5"
      },
      "execution_count": null,
      "outputs": [
        {
          "output_type": "stream",
          "name": "stdout",
          "text": [
            "Peak to average ratios:\n",
            "BPSO: 1.0909954858636255\n",
            "DE: 1.1021240849633986\n",
            "HMS: 1.342197888150176\n"
          ]
        }
      ]
    }
  ]
}